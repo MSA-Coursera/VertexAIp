{
  "cells": [
    {
      "cell_type": "markdown",
      "metadata": {
        "id": "view-in-github",
        "colab_type": "text"
      },
      "source": [
        "<a href=\"https://colab.research.google.com/github/MSA-Coursera/VertexAIp/blob/main/intro_rag_engine20250130.ipynb\" target=\"_parent\"><img src=\"https://colab.research.google.com/assets/colab-badge.svg\" alt=\"Open In Colab\"/></a>"
      ]
    },
    {
      "cell_type": "code",
      "execution_count": 1,
      "metadata": {
        "id": "ur8xi4C7S06n"
      },
      "outputs": [],
      "source": [
        "# Copyright 2024 Google LLC\n",
        "#\n",
        "# Licensed under the Apache License, Version 2.0 (the \"License\");\n",
        "# you may not use this file except in compliance with the License.\n",
        "# You may obtain a copy of the License at\n",
        "#\n",
        "#     https://www.apache.org/licenses/LICENSE-2.0\n",
        "#\n",
        "# Unless required by applicable law or agreed to in writing, software\n",
        "# distributed under the License is distributed on an \"AS IS\" BASIS,\n",
        "# WITHOUT WARRANTIES OR CONDITIONS OF ANY KIND, either express or implied.\n",
        "# See the License for the specific language governing permissions and\n",
        "# limitations under the License."
      ]
    },
    {
      "cell_type": "markdown",
      "metadata": {
        "id": "JAPoU8Sm5E6e"
      },
      "source": [
        "# Intro to Building a Scalable and Modular RAG System with RAG Engine in Vertex AI\n",
        "\n",
        "> **NOTE:** This notebook uses the Vertex AI SDK, which does not support Gemini 2.0; refer to [Intro to Gemini 2.0 Flash](https://github.com/GoogleCloudPlatform/generative-ai/blob/sdk-updates/gemini/getting-started/intro_gemini_2_0_flash.ipynb) which uses the Google Gen AI SDK.\n",
        "\n",
        "<table align=\"left\">\n",
        "  <td style=\"text-align: center\">\n",
        "    <a href=\"https://colab.research.google.com/github/GoogleCloudPlatform/generative-ai/blob/main/gemini/rag-engine/intro_rag_engine.ipynb\">\n",
        "      <img width=\"32px\" src=\"https://www.gstatic.com/pantheon/images/bigquery/welcome_page/colab-logo.svg\" alt=\"Google Colaboratory logo\"><br> Open in Colab\n",
        "    </a>\n",
        "  </td>\n",
        "  <td style=\"text-align: center\">\n",
        "    <a href=\"https://console.cloud.google.com/vertex-ai/colab/import/https:%2F%2Fraw.githubusercontent.com%2FGoogleCloudPlatform%2Fgenerative-ai%2Fmain%2Fgemini%2Frag-engine%2Fintro_rag_engine.ipynb\">\n",
        "      <img width=\"32px\" src=\"https://lh3.googleusercontent.com/JmcxdQi-qOpctIvWKgPtrzZdJJK-J3sWE1RsfjZNwshCFgE_9fULcNpuXYTilIR2hjwN\" alt=\"Google Cloud Colab Enterprise logo\"><br> Open in Colab Enterprise\n",
        "    </a>\n",
        "  </td>\n",
        "  <td style=\"text-align: center\">\n",
        "    <a href=\"https://console.cloud.google.com/vertex-ai/workbench/deploy-notebook?download_url=https://raw.githubusercontent.com/GoogleCloudPlatform/generative-ai/main/gemini/rag-engine/intro_rag_engine.ipynb\">\n",
        "      <img src=\"https://www.gstatic.com/images/branding/gcpiconscolors/vertexai/v1/32px.svg\" alt=\"Vertex AI logo\"><br> Open in Vertex AI Workbench\n",
        "    </a>\n",
        "  </td>\n",
        "  <td style=\"text-align: center\">\n",
        "    <a href=\"https://github.com/GoogleCloudPlatform/generative-ai/blob/main/gemini/rag-engine/intro_rag_engine.ipynb\">\n",
        "      <img width=\"32px\" src=\"https://upload.wikimedia.org/wikipedia/commons/9/91/Octicons-mark-github.svg\" alt=\"GitHub logo\"><br> View on GitHub\n",
        "    </a>\n",
        "  </td>\n",
        "</table>\n",
        "\n",
        "<div style=\"clear: both;\"></div>\n",
        "\n",
        "<b>Share to:</b>\n",
        "\n",
        "<a href=\"https://www.linkedin.com/sharing/share-offsite/?url=https%3A//github.com/GoogleCloudPlatform/generative-ai/blob/main/gemini/rag-engine/intro_rag_engine.ipynb\" target=\"_blank\">\n",
        "  <img width=\"20px\" src=\"https://upload.wikimedia.org/wikipedia/commons/8/81/LinkedIn_icon.svg\" alt=\"LinkedIn logo\">\n",
        "</a>\n",
        "\n",
        "<a href=\"https://bsky.app/intent/compose?text=https%3A//github.com/GoogleCloudPlatform/generative-ai/blob/main/gemini/rag-engine/intro_rag_engine.ipynb\" target=\"_blank\">\n",
        "  <img width=\"20px\" src=\"https://upload.wikimedia.org/wikipedia/commons/7/7a/Bluesky_Logo.svg\" alt=\"Bluesky logo\">\n",
        "</a>\n",
        "\n",
        "<a href=\"https://twitter.com/intent/tweet?url=https%3A//github.com/GoogleCloudPlatform/generative-ai/blob/main/gemini/rag-engine/intro_rag_engine.ipynb\" target=\"_blank\">\n",
        "  <img width=\"20px\" src=\"https://upload.wikimedia.org/wikipedia/commons/5/53/X_logo_2023_original.svg\" alt=\"X logo\">\n",
        "</a>\n",
        "\n",
        "<a href=\"https://reddit.com/submit?url=https%3A//github.com/GoogleCloudPlatform/generative-ai/blob/main/gemini/rag-engine/intro_rag_engine.ipynb\" target=\"_blank\">\n",
        "  <img width=\"20px\" src=\"https://redditinc.com/hubfs/Reddit%20Inc/Brand/Reddit_Logo.png\" alt=\"Reddit logo\">\n",
        "</a>\n",
        "\n",
        "<a href=\"https://www.facebook.com/sharer/sharer.php?u=https%3A//github.com/GoogleCloudPlatform/generative-ai/blob/main/gemini/rag-engine/intro_rag_engine.ipynb\" target=\"_blank\">\n",
        "  <img width=\"20px\" src=\"https://upload.wikimedia.org/wikipedia/commons/5/51/Facebook_f_logo_%282019%29.svg\" alt=\"Facebook logo\">\n",
        "</a>            "
      ]
    },
    {
      "cell_type": "markdown",
      "metadata": {
        "id": "84f0f73a0f76"
      },
      "source": [
        "| | |\n",
        "|-|-|\n",
        "| Author(s) | [Holt Skinner](https://github.com/holtskinner) |"
      ]
    },
    {
      "cell_type": "markdown",
      "metadata": {
        "id": "tvgnzT1CKxrO"
      },
      "source": [
        "## Overview\n",
        "\n",
        "Retrieval Augmented Generation (RAG) improves Large Language Models (LLMs) by allowing them to access and process external information sources during generation. This ensures the model's responses are grounded in factual data and avoids hallucinations.\n",
        "\n",
        "A common problem with LLMs is that they don't understand private knowledge, that\n",
        "is, your organization's data. With RAG Engine, you can enrich the\n",
        "LLM context with additional private information, because the model can reduce\n",
        "hallucinations and answer questions more accurately.\n",
        "\n",
        "By combining additional knowledge sources with the existing knowledge that LLMs\n",
        "have, a better context is provided. The improved context along with the query\n",
        "enhances the quality of the LLM's response.\n",
        "\n",
        "The following concepts are key to understanding Vertex AI RAG Engine. These concepts are listed in the order of the\n",
        "retrieval-augmented generation (RAG) process.\n",
        "\n",
        "1. **Data ingestion**: Intake data from different data sources. For example,\n",
        "  local files, Google Cloud Storage, and Google Drive.\n",
        "\n",
        "1. **Data transformation**: Conversion of the data in preparation for indexing. For example, data is split into chunks.\n",
        "\n",
        "1. **Embedding**: Numerical representations of words or pieces of text. These numbers capture the\n",
        "   semantic meaning and context of the text. Similar or related words or text\n",
        "   tend to have similar embeddings, which means they are closer together in the\n",
        "   high-dimensional vector space.\n",
        "\n",
        "1. **Data indexing**: RAG Engine creates an index called a corpus.\n",
        "   The index structures the knowledge base so it's optimized for searching. For\n",
        "   example, the index is like a detailed table of contents for a massive\n",
        "   reference book.\n",
        "\n",
        "1. **Retrieval**: When a user asks a question or provides a prompt, the retrieval\n",
        "  component in RAG Engine searches through its knowledge\n",
        "  base to find information that is relevant to the query.\n",
        "\n",
        "1. **Generation**: The retrieved information becomes the context added to the\n",
        "  original user query as a guide for the generative AI model to generate\n",
        "  factually grounded and relevant responses.\n",
        "\n",
        "For more information, refer to the public documentation for [Vertex AI RAG Engine](https://cloud.google.com/vertex-ai/generative-ai/docs/rag-overview)."
      ]
    },
    {
      "cell_type": "markdown",
      "metadata": {
        "id": "61RBz8LLbxCR"
      },
      "source": [
        "## Get started"
      ]
    },
    {
      "cell_type": "markdown",
      "metadata": {
        "id": "No17Cw5hgx12"
      },
      "source": [
        "### Install Vertex AI SDK and other required packages\n"
      ]
    },
    {
      "cell_type": "code",
      "execution_count": 2,
      "metadata": {
        "id": "tFy3H3aPgx12"
      },
      "outputs": [],
      "source": [
        "%pip install --upgrade --user --quiet google-cloud-aiplatform"
      ]
    },
    {
      "cell_type": "markdown",
      "metadata": {
        "id": "R5Xep4W9lq-Z"
      },
      "source": [
        "### Restart runtime\n",
        "\n",
        "To use the newly installed packages in this Jupyter runtime, you must restart the runtime. You can do this by running the cell below, which restarts the current kernel.\n",
        "\n",
        "The restart might take a minute or longer. After it's restarted, continue to the next step."
      ]
    },
    {
      "cell_type": "code",
      "execution_count": 3,
      "metadata": {
        "id": "XRvKdaPDTznN",
        "colab": {
          "base_uri": "https://localhost:8080/"
        },
        "outputId": "af2aa478-b3fa-4c11-e56c-467d6f73e45b"
      },
      "outputs": [
        {
          "output_type": "execute_result",
          "data": {
            "text/plain": [
              "{'status': 'ok', 'restart': True}"
            ]
          },
          "metadata": {},
          "execution_count": 3
        }
      ],
      "source": [
        "import IPython\n",
        "\n",
        "app = IPython.Application.instance()\n",
        "app.kernel.do_shutdown(True)"
      ]
    },
    {
      "cell_type": "markdown",
      "metadata": {
        "id": "SbmM4z7FOBpM"
      },
      "source": [
        "<div class=\"alert alert-block alert-warning\">\n",
        "<b>⚠️ The kernel is going to restart. Wait until it's finished before continuing to the next step. ⚠️</b>\n",
        "</div>\n"
      ]
    },
    {
      "cell_type": "markdown",
      "metadata": {
        "id": "dmWOrTJ3gx13"
      },
      "source": [
        "### Authenticate your notebook environment (Colab only)\n",
        "\n",
        "If you're running this notebook on Google Colab, run the cell below to authenticate your environment."
      ]
    },
    {
      "cell_type": "code",
      "execution_count": 4,
      "metadata": {
        "id": "NyKGtVQjgx13"
      },
      "outputs": [],
      "source": [
        "import sys\n",
        "\n",
        "if \"google.colab\" in sys.modules:\n",
        "    from google.colab import auth\n",
        "\n",
        "    auth.authenticate_user()"
      ]
    },
    {
      "cell_type": "markdown",
      "metadata": {
        "id": "DF4l8DTdWgPY"
      },
      "source": [
        "### Set Google Cloud project information and initialize Vertex AI SDK\n",
        "\n",
        "To get started using Vertex AI, you must have an existing Google Cloud project and [enable the Vertex AI API](https://console.cloud.google.com/flows/enableapi?apiid=aiplatform.googleapis.com).\n",
        "\n",
        "Learn more about [setting up a project and a development environment](https://cloud.google.com/vertex-ai/docs/start/cloud-environment)."
      ]
    },
    {
      "cell_type": "code",
      "execution_count": 2,
      "metadata": {
        "id": "Nqwi-5ufWp_B",
        "colab": {
          "base_uri": "https://localhost:8080/"
        },
        "outputId": "d3e5d51a-1174-40c9-84c6-d86833f65c47"
      },
      "outputs": [
        {
          "output_type": "stream",
          "name": "stdout",
          "text": [
            "PROJECT_ID: united-tempest-449217-c2\n"
          ]
        }
      ],
      "source": [
        "# Use the environment variable if the user doesn't provide Project ID.\n",
        "import os\n",
        "\n",
        "import vertexai\n",
        "\n",
        "PROJECT_ID = os.environ.get(\"GOOGLE_CLOUD_PROJECT\")  # Try to get it from env first\n",
        "\n",
        "if not PROJECT_ID:  # If it's not set in env, use the hardcoded value\n",
        "    PROJECT_ID = \"united-tempest-449217-c2\"\n",
        "\n",
        "LOCATION = os.environ.get(\"GOOGLE_CLOUD_REGION\", \"us-central1\")\n",
        "print(f\"PROJECT_ID: {PROJECT_ID}\")  # Always print to verify!\n",
        "\n",
        "vertexai.init(project=PROJECT_ID, location=LOCATION)"
      ]
    },
    {
      "cell_type": "markdown",
      "metadata": {
        "id": "5303c05f7aa6"
      },
      "source": [
        "### Import libraries"
      ]
    },
    {
      "cell_type": "code",
      "execution_count": 3,
      "metadata": {
        "id": "6fc324893334"
      },
      "outputs": [],
      "source": [
        "from IPython.display import Markdown\n",
        "from vertexai.preview import rag\n",
        "from vertexai.preview.generative_models import GenerativeModel, Tool"
      ]
    },
    {
      "cell_type": "markdown",
      "metadata": {
        "id": "e43229f3ad4f"
      },
      "source": [
        "### Create a RAG Corpus"
      ]
    },
    {
      "cell_type": "code",
      "execution_count": 4,
      "metadata": {
        "id": "cf93d5f0ce00"
      },
      "outputs": [],
      "source": [
        "# Currently supports Google first-party embedding models\n",
        "EMBEDDING_MODEL = \"publishers/google/models/text-embedding-004\"  # @param {type:\"string\", isTemplate: true}\n",
        "embedding_model_config = rag.EmbeddingModelConfig(publisher_model=EMBEDDING_MODEL)\n",
        "\n",
        "rag_corpus = rag.create_corpus(\n",
        "    display_name=\"my-rag-corpus\", embedding_model_config=embedding_model_config\n",
        ")"
      ]
    },
    {
      "cell_type": "markdown",
      "metadata": {
        "id": "197c585b61b2"
      },
      "source": [
        "### Check the corpus just created"
      ]
    },
    {
      "cell_type": "code",
      "execution_count": 5,
      "metadata": {
        "id": "f229b13dc617",
        "colab": {
          "base_uri": "https://localhost:8080/"
        },
        "outputId": "2acc821c-6172-4608-dd90-d80546a78a8b"
      },
      "outputs": [
        {
          "output_type": "execute_result",
          "data": {
            "text/plain": [
              "ListRagCorporaPager<rag_corpora {\n",
              "  name: \"projects/united-tempest-449217-c2/locations/us-central1/ragCorpora/2305843009213693952\"\n",
              "  display_name: \"my-rag-corpus\"\n",
              "  rag_embedding_model_config {\n",
              "    vertex_prediction_endpoint {\n",
              "      endpoint: \"projects/united-tempest-449217-c2/locations/us-central1/publishers/google/models/text-embedding-004\"\n",
              "    }\n",
              "  }\n",
              "  rag_vector_db_config {\n",
              "    rag_managed_db {\n",
              "    }\n",
              "    rag_embedding_model_config {\n",
              "      vertex_prediction_endpoint {\n",
              "        endpoint: \"projects/united-tempest-449217-c2/locations/us-central1/publishers/google/models/text-embedding-004\"\n",
              "      }\n",
              "    }\n",
              "  }\n",
              "  create_time {\n",
              "    seconds: 1738088740\n",
              "    nanos: 655819000\n",
              "  }\n",
              "  update_time {\n",
              "    seconds: 1738088740\n",
              "    nanos: 655819000\n",
              "  }\n",
              "  corpus_status {\n",
              "    state: ACTIVE\n",
              "  }\n",
              "  vector_db_config {\n",
              "    rag_managed_db {\n",
              "    }\n",
              "    rag_embedding_model_config {\n",
              "      vertex_prediction_endpoint {\n",
              "        endpoint: \"projects/united-tempest-449217-c2/locations/us-central1/publishers/google/models/text-embedding-004\"\n",
              "      }\n",
              "    }\n",
              "  }\n",
              "}\n",
              "rag_corpora {\n",
              "  name: \"projects/united-tempest-449217-c2/locations/us-central1/ragCorpora/5764607523034234880\"\n",
              "  display_name: \"my-rag-corpus\"\n",
              "  rag_embedding_model_config {\n",
              "    vertex_prediction_endpoint {\n",
              "      endpoint: \"projects/united-tempest-449217-c2/locations/us-central1/publishers/google/models/text-embedding-004\"\n",
              "    }\n",
              "  }\n",
              "  rag_vector_db_config {\n",
              "    rag_managed_db {\n",
              "    }\n",
              "    rag_embedding_model_config {\n",
              "      vertex_prediction_endpoint {\n",
              "        endpoint: \"projects/united-tempest-449217-c2/locations/us-central1/publishers/google/models/text-embedding-004\"\n",
              "      }\n",
              "    }\n",
              "  }\n",
              "  create_time {\n",
              "    seconds: 1738088752\n",
              "    nanos: 684633000\n",
              "  }\n",
              "  update_time {\n",
              "    seconds: 1738088752\n",
              "    nanos: 684633000\n",
              "  }\n",
              "  corpus_status {\n",
              "    state: ACTIVE\n",
              "  }\n",
              "  vector_db_config {\n",
              "    rag_managed_db {\n",
              "    }\n",
              "    rag_embedding_model_config {\n",
              "      vertex_prediction_endpoint {\n",
              "        endpoint: \"projects/united-tempest-449217-c2/locations/us-central1/publishers/google/models/text-embedding-004\"\n",
              "      }\n",
              "    }\n",
              "  }\n",
              "}\n",
              "rag_corpora {\n",
              "  name: \"projects/united-tempest-449217-c2/locations/us-central1/ragCorpora/3379951520341557248\"\n",
              "  display_name: \"my-rag-corpus\"\n",
              "  rag_embedding_model_config {\n",
              "    vertex_prediction_endpoint {\n",
              "      endpoint: \"projects/united-tempest-449217-c2/locations/us-central1/publishers/google/models/text-embedding-004\"\n",
              "    }\n",
              "  }\n",
              "  rag_vector_db_config {\n",
              "    rag_managed_db {\n",
              "    }\n",
              "    rag_embedding_model_config {\n",
              "      vertex_prediction_endpoint {\n",
              "        endpoint: \"projects/united-tempest-449217-c2/locations/us-central1/publishers/google/models/text-embedding-004\"\n",
              "      }\n",
              "    }\n",
              "  }\n",
              "  create_time {\n",
              "    seconds: 1738088812\n",
              "    nanos: 83684000\n",
              "  }\n",
              "  update_time {\n",
              "    seconds: 1738088812\n",
              "    nanos: 83684000\n",
              "  }\n",
              "  corpus_status {\n",
              "    state: ACTIVE\n",
              "  }\n",
              "  vector_db_config {\n",
              "    rag_managed_db {\n",
              "    }\n",
              "    rag_embedding_model_config {\n",
              "      vertex_prediction_endpoint {\n",
              "        endpoint: \"projects/united-tempest-449217-c2/locations/us-central1/publishers/google/models/text-embedding-004\"\n",
              "      }\n",
              "    }\n",
              "  }\n",
              "}\n",
              "rag_corpora {\n",
              "  name: \"projects/united-tempest-449217-c2/locations/us-central1/ragCorpora/6838716034162098176\"\n",
              "  display_name: \"my-rag-corpus\"\n",
              "  rag_embedding_model_config {\n",
              "    vertex_prediction_endpoint {\n",
              "      endpoint: \"projects/united-tempest-449217-c2/locations/us-central1/publishers/google/models/text-embedding-004\"\n",
              "    }\n",
              "  }\n",
              "  rag_vector_db_config {\n",
              "    rag_managed_db {\n",
              "    }\n",
              "    rag_embedding_model_config {\n",
              "      vertex_prediction_endpoint {\n",
              "        endpoint: \"projects/united-tempest-449217-c2/locations/us-central1/publishers/google/models/text-embedding-004\"\n",
              "      }\n",
              "    }\n",
              "  }\n",
              "  create_time {\n",
              "    seconds: 1738088823\n",
              "    nanos: 565197000\n",
              "  }\n",
              "  update_time {\n",
              "    seconds: 1738088823\n",
              "    nanos: 565197000\n",
              "  }\n",
              "  corpus_status {\n",
              "    state: ACTIVE\n",
              "  }\n",
              "  vector_db_config {\n",
              "    rag_managed_db {\n",
              "    }\n",
              "    rag_embedding_model_config {\n",
              "      vertex_prediction_endpoint {\n",
              "        endpoint: \"projects/united-tempest-449217-c2/locations/us-central1/publishers/google/models/text-embedding-004\"\n",
              "      }\n",
              "    }\n",
              "  }\n",
              "}\n",
              "rag_corpora {\n",
              "  name: \"projects/united-tempest-449217-c2/locations/us-central1/ragCorpora/137359788634800128\"\n",
              "  display_name: \"my-rag-corpus\"\n",
              "  rag_embedding_model_config {\n",
              "    vertex_prediction_endpoint {\n",
              "      endpoint: \"projects/united-tempest-449217-c2/locations/us-central1/publishers/google/models/text-embedding-004\"\n",
              "    }\n",
              "  }\n",
              "  rag_vector_db_config {\n",
              "    rag_managed_db {\n",
              "    }\n",
              "    rag_embedding_model_config {\n",
              "      vertex_prediction_endpoint {\n",
              "        endpoint: \"projects/united-tempest-449217-c2/locations/us-central1/publishers/google/models/text-embedding-004\"\n",
              "      }\n",
              "    }\n",
              "  }\n",
              "  create_time {\n",
              "    seconds: 1738138865\n",
              "    nanos: 896797000\n",
              "  }\n",
              "  update_time {\n",
              "    seconds: 1738138865\n",
              "    nanos: 896797000\n",
              "  }\n",
              "  corpus_status {\n",
              "    state: ACTIVE\n",
              "  }\n",
              "  vector_db_config {\n",
              "    rag_managed_db {\n",
              "    }\n",
              "    rag_embedding_model_config {\n",
              "      vertex_prediction_endpoint {\n",
              "        endpoint: \"projects/united-tempest-449217-c2/locations/us-central1/publishers/google/models/text-embedding-004\"\n",
              "      }\n",
              "    }\n",
              "  }\n",
              "}\n",
              "rag_corpora {\n",
              "  name: \"projects/united-tempest-449217-c2/locations/us-central1/ragCorpora/7054888816275881984\"\n",
              "  display_name: \"my-rag-corpus\"\n",
              "  rag_embedding_model_config {\n",
              "    vertex_prediction_endpoint {\n",
              "      endpoint: \"projects/united-tempest-449217-c2/locations/us-central1/publishers/google/models/text-embedding-004\"\n",
              "    }\n",
              "  }\n",
              "  rag_vector_db_config {\n",
              "    rag_managed_db {\n",
              "    }\n",
              "    rag_embedding_model_config {\n",
              "      vertex_prediction_endpoint {\n",
              "        endpoint: \"projects/united-tempest-449217-c2/locations/us-central1/publishers/google/models/text-embedding-004\"\n",
              "      }\n",
              "    }\n",
              "  }\n",
              "  create_time {\n",
              "    seconds: 1738138873\n",
              "    nanos: 732005000\n",
              "  }\n",
              "  update_time {\n",
              "    seconds: 1738138873\n",
              "    nanos: 732005000\n",
              "  }\n",
              "  corpus_status {\n",
              "    state: ACTIVE\n",
              "  }\n",
              "  vector_db_config {\n",
              "    rag_managed_db {\n",
              "    }\n",
              "    rag_embedding_model_config {\n",
              "      vertex_prediction_endpoint {\n",
              "        endpoint: \"projects/united-tempest-449217-c2/locations/us-central1/publishers/google/models/text-embedding-004\"\n",
              "      }\n",
              "    }\n",
              "  }\n",
              "}\n",
              "rag_corpora {\n",
              "  name: \"projects/united-tempest-449217-c2/locations/us-central1/ragCorpora/3596124302455341056\"\n",
              "  display_name: \"my-rag-corpus\"\n",
              "  rag_embedding_model_config {\n",
              "    vertex_prediction_endpoint {\n",
              "      endpoint: \"projects/united-tempest-449217-c2/locations/us-central1/publishers/google/models/text-embedding-004\"\n",
              "    }\n",
              "  }\n",
              "  rag_vector_db_config {\n",
              "    rag_managed_db {\n",
              "    }\n",
              "    rag_embedding_model_config {\n",
              "      vertex_prediction_endpoint {\n",
              "        endpoint: \"projects/united-tempest-449217-c2/locations/us-central1/publishers/google/models/text-embedding-004\"\n",
              "      }\n",
              "    }\n",
              "  }\n",
              "  create_time {\n",
              "    seconds: 1738138956\n",
              "    nanos: 249985000\n",
              "  }\n",
              "  update_time {\n",
              "    seconds: 1738138956\n",
              "    nanos: 249985000\n",
              "  }\n",
              "  corpus_status {\n",
              "    state: ACTIVE\n",
              "  }\n",
              "  vector_db_config {\n",
              "    rag_managed_db {\n",
              "    }\n",
              "    rag_embedding_model_config {\n",
              "      vertex_prediction_endpoint {\n",
              "        endpoint: \"projects/united-tempest-449217-c2/locations/us-central1/publishers/google/models/text-embedding-004\"\n",
              "      }\n",
              "    }\n",
              "  }\n",
              "}\n",
              "rag_corpora {\n",
              "  name: \"projects/united-tempest-449217-c2/locations/us-central1/ragCorpora/5325506559365611520\"\n",
              "  display_name: \"my-rag-corpus\"\n",
              "  rag_embedding_model_config {\n",
              "    vertex_prediction_endpoint {\n",
              "      endpoint: \"projects/united-tempest-449217-c2/locations/us-central1/publishers/google/models/text-embedding-004\"\n",
              "    }\n",
              "  }\n",
              "  rag_vector_db_config {\n",
              "    rag_managed_db {\n",
              "    }\n",
              "    rag_embedding_model_config {\n",
              "      vertex_prediction_endpoint {\n",
              "        endpoint: \"projects/united-tempest-449217-c2/locations/us-central1/publishers/google/models/text-embedding-004\"\n",
              "      }\n",
              "    }\n",
              "  }\n",
              "  create_time {\n",
              "    seconds: 1738138965\n",
              "    nanos: 140253000\n",
              "  }\n",
              "  update_time {\n",
              "    seconds: 1738138965\n",
              "    nanos: 140253000\n",
              "  }\n",
              "  corpus_status {\n",
              "    state: ACTIVE\n",
              "  }\n",
              "  vector_db_config {\n",
              "    rag_managed_db {\n",
              "    }\n",
              "    rag_embedding_model_config {\n",
              "      vertex_prediction_endpoint {\n",
              "        endpoint: \"projects/united-tempest-449217-c2/locations/us-central1/publishers/google/models/text-embedding-004\"\n",
              "      }\n",
              "    }\n",
              "  }\n",
              "}\n",
              "rag_corpora {\n",
              "  name: \"projects/united-tempest-449217-c2/locations/us-central1/ragCorpora/1866742045545070592\"\n",
              "  display_name: \"my-rag-corpus\"\n",
              "  rag_embedding_model_config {\n",
              "    vertex_prediction_endpoint {\n",
              "      endpoint: \"projects/united-tempest-449217-c2/locations/us-central1/publishers/google/models/text-embedding-004\"\n",
              "    }\n",
              "  }\n",
              "  rag_vector_db_config {\n",
              "    rag_managed_db {\n",
              "    }\n",
              "    rag_embedding_model_config {\n",
              "      vertex_prediction_endpoint {\n",
              "        endpoint: \"projects/united-tempest-449217-c2/locations/us-central1/publishers/google/models/text-embedding-004\"\n",
              "      }\n",
              "    }\n",
              "  }\n",
              "  create_time {\n",
              "    seconds: 1738154882\n",
              "    nanos: 542998000\n",
              "  }\n",
              "  update_time {\n",
              "    seconds: 1738154882\n",
              "    nanos: 542998000\n",
              "  }\n",
              "  corpus_status {\n",
              "    state: ACTIVE\n",
              "  }\n",
              "  vector_db_config {\n",
              "    rag_managed_db {\n",
              "    }\n",
              "    rag_embedding_model_config {\n",
              "      vertex_prediction_endpoint {\n",
              "        endpoint: \"projects/united-tempest-449217-c2/locations/us-central1/publishers/google/models/text-embedding-004\"\n",
              "      }\n",
              "    }\n",
              "  }\n",
              "}\n",
              "rag_corpora {\n",
              "  name: \"projects/united-tempest-449217-c2/locations/us-central1/ragCorpora/8784271073186152448\"\n",
              "  display_name: \"my-rag-corpus\"\n",
              "  rag_embedding_model_config {\n",
              "    vertex_prediction_endpoint {\n",
              "      endpoint: \"projects/united-tempest-449217-c2/locations/us-central1/publishers/google/models/text-embedding-004\"\n",
              "    }\n",
              "  }\n",
              "  rag_vector_db_config {\n",
              "    rag_managed_db {\n",
              "    }\n",
              "    rag_embedding_model_config {\n",
              "      vertex_prediction_endpoint {\n",
              "        endpoint: \"projects/united-tempest-449217-c2/locations/us-central1/publishers/google/models/text-embedding-004\"\n",
              "      }\n",
              "    }\n",
              "  }\n",
              "  create_time {\n",
              "    seconds: 1738154890\n",
              "    nanos: 660225000\n",
              "  }\n",
              "  update_time {\n",
              "    seconds: 1738154890\n",
              "    nanos: 660225000\n",
              "  }\n",
              "  corpus_status {\n",
              "    state: ACTIVE\n",
              "  }\n",
              "  vector_db_config {\n",
              "    rag_managed_db {\n",
              "    }\n",
              "    rag_embedding_model_config {\n",
              "      vertex_prediction_endpoint {\n",
              "        endpoint: \"projects/united-tempest-449217-c2/locations/us-central1/publishers/google/models/text-embedding-004\"\n",
              "      }\n",
              "    }\n",
              "  }\n",
              "}\n",
              "rag_corpora {\n",
              "  name: \"projects/united-tempest-449217-c2/locations/us-central1/ragCorpora/2731433174000205824\"\n",
              "  display_name: \"my-rag-corpus\"\n",
              "  rag_embedding_model_config {\n",
              "    vertex_prediction_endpoint {\n",
              "      endpoint: \"projects/united-tempest-449217-c2/locations/us-central1/publishers/google/models/text-embedding-004\"\n",
              "    }\n",
              "  }\n",
              "  rag_vector_db_config {\n",
              "    rag_managed_db {\n",
              "    }\n",
              "    rag_embedding_model_config {\n",
              "      vertex_prediction_endpoint {\n",
              "        endpoint: \"projects/united-tempest-449217-c2/locations/us-central1/publishers/google/models/text-embedding-004\"\n",
              "      }\n",
              "    }\n",
              "  }\n",
              "  create_time {\n",
              "    seconds: 1738154945\n",
              "    nanos: 155817000\n",
              "  }\n",
              "  update_time {\n",
              "    seconds: 1738154945\n",
              "    nanos: 155817000\n",
              "  }\n",
              "  corpus_status {\n",
              "    state: ACTIVE\n",
              "  }\n",
              "  vector_db_config {\n",
              "    rag_managed_db {\n",
              "    }\n",
              "    rag_embedding_model_config {\n",
              "      vertex_prediction_endpoint {\n",
              "        endpoint: \"projects/united-tempest-449217-c2/locations/us-central1/publishers/google/models/text-embedding-004\"\n",
              "      }\n",
              "    }\n",
              "  }\n",
              "}\n",
              "rag_corpora {\n",
              "  name: \"projects/united-tempest-449217-c2/locations/us-central1/ragCorpora/6190197687820746752\"\n",
              "  display_name: \"my-rag-corpus\"\n",
              "  rag_embedding_model_config {\n",
              "    vertex_prediction_endpoint {\n",
              "      endpoint: \"projects/united-tempest-449217-c2/locations/us-central1/publishers/google/models/text-embedding-004\"\n",
              "    }\n",
              "  }\n",
              "  rag_vector_db_config {\n",
              "    rag_managed_db {\n",
              "    }\n",
              "    rag_embedding_model_config {\n",
              "      vertex_prediction_endpoint {\n",
              "        endpoint: \"projects/united-tempest-449217-c2/locations/us-central1/publishers/google/models/text-embedding-004\"\n",
              "      }\n",
              "    }\n",
              "  }\n",
              "  create_time {\n",
              "    seconds: 1738154955\n",
              "    nanos: 863073000\n",
              "  }\n",
              "  update_time {\n",
              "    seconds: 1738154955\n",
              "    nanos: 863073000\n",
              "  }\n",
              "  corpus_status {\n",
              "    state: ACTIVE\n",
              "  }\n",
              "  vector_db_config {\n",
              "    rag_managed_db {\n",
              "    }\n",
              "    rag_embedding_model_config {\n",
              "      vertex_prediction_endpoint {\n",
              "        endpoint: \"projects/united-tempest-449217-c2/locations/us-central1/publishers/google/models/text-embedding-004\"\n",
              "      }\n",
              "    }\n",
              "  }\n",
              "}\n",
              "rag_corpora {\n",
              "  name: \"projects/united-tempest-449217-c2/locations/us-central1/ragCorpora/1002050917089935360\"\n",
              "  display_name: \"my-rag-corpus\"\n",
              "  rag_embedding_model_config {\n",
              "    vertex_prediction_endpoint {\n",
              "      endpoint: \"projects/united-tempest-449217-c2/locations/us-central1/publishers/google/models/text-embedding-004\"\n",
              "    }\n",
              "  }\n",
              "  rag_vector_db_config {\n",
              "    rag_managed_db {\n",
              "    }\n",
              "    rag_embedding_model_config {\n",
              "      vertex_prediction_endpoint {\n",
              "        endpoint: \"projects/united-tempest-449217-c2/locations/us-central1/publishers/google/models/text-embedding-004\"\n",
              "      }\n",
              "    }\n",
              "  }\n",
              "  create_time {\n",
              "    seconds: 1738155288\n",
              "    nanos: 92008000\n",
              "  }\n",
              "  update_time {\n",
              "    seconds: 1738155288\n",
              "    nanos: 92008000\n",
              "  }\n",
              "  corpus_status {\n",
              "    state: ACTIVE\n",
              "  }\n",
              "  vector_db_config {\n",
              "    rag_managed_db {\n",
              "    }\n",
              "    rag_embedding_model_config {\n",
              "      vertex_prediction_endpoint {\n",
              "        endpoint: \"projects/united-tempest-449217-c2/locations/us-central1/publishers/google/models/text-embedding-004\"\n",
              "      }\n",
              "    }\n",
              "  }\n",
              "}\n",
              "rag_corpora {\n",
              "  name: \"projects/united-tempest-449217-c2/locations/us-central1/ragCorpora/7919579944731017216\"\n",
              "  display_name: \"my-rag-corpus\"\n",
              "  rag_embedding_model_config {\n",
              "    vertex_prediction_endpoint {\n",
              "      endpoint: \"projects/united-tempest-449217-c2/locations/us-central1/publishers/google/models/text-embedding-004\"\n",
              "    }\n",
              "  }\n",
              "  rag_vector_db_config {\n",
              "    rag_managed_db {\n",
              "    }\n",
              "    rag_embedding_model_config {\n",
              "      vertex_prediction_endpoint {\n",
              "        endpoint: \"projects/united-tempest-449217-c2/locations/us-central1/publishers/google/models/text-embedding-004\"\n",
              "      }\n",
              "    }\n",
              "  }\n",
              "  create_time {\n",
              "    seconds: 1738155293\n",
              "    nanos: 887952000\n",
              "  }\n",
              "  update_time {\n",
              "    seconds: 1738155293\n",
              "    nanos: 887952000\n",
              "  }\n",
              "  corpus_status {\n",
              "    state: ACTIVE\n",
              "  }\n",
              "  vector_db_config {\n",
              "    rag_managed_db {\n",
              "    }\n",
              "    rag_embedding_model_config {\n",
              "      vertex_prediction_endpoint {\n",
              "        endpoint: \"projects/united-tempest-449217-c2/locations/us-central1/publishers/google/models/text-embedding-004\"\n",
              "      }\n",
              "    }\n",
              "  }\n",
              "}\n",
              "rag_corpora {\n",
              "  name: \"projects/united-tempest-449217-c2/locations/us-central1/ragCorpora/4460815430910476288\"\n",
              "  display_name: \"my-rag-corpus\"\n",
              "  rag_embedding_model_config {\n",
              "    vertex_prediction_endpoint {\n",
              "      endpoint: \"projects/united-tempest-449217-c2/locations/us-central1/publishers/google/models/text-embedding-004\"\n",
              "    }\n",
              "  }\n",
              "  rag_vector_db_config {\n",
              "    rag_managed_db {\n",
              "    }\n",
              "    rag_embedding_model_config {\n",
              "      vertex_prediction_endpoint {\n",
              "        endpoint: \"projects/united-tempest-449217-c2/locations/us-central1/publishers/google/models/text-embedding-004\"\n",
              "      }\n",
              "    }\n",
              "  }\n",
              "  create_time {\n",
              "    seconds: 1738155435\n",
              "    nanos: 403456000\n",
              "  }\n",
              "  update_time {\n",
              "    seconds: 1738155435\n",
              "    nanos: 403456000\n",
              "  }\n",
              "  corpus_status {\n",
              "    state: ACTIVE\n",
              "  }\n",
              "  vector_db_config {\n",
              "    rag_managed_db {\n",
              "    }\n",
              "    rag_embedding_model_config {\n",
              "      vertex_prediction_endpoint {\n",
              "        endpoint: \"projects/united-tempest-449217-c2/locations/us-central1/publishers/google/models/text-embedding-004\"\n",
              "      }\n",
              "    }\n",
              "  }\n",
              "}\n",
              "rag_corpora {\n",
              "  name: \"projects/united-tempest-449217-c2/locations/us-central1/ragCorpora/4893160995138043904\"\n",
              "  display_name: \"my-rag-corpus\"\n",
              "  rag_embedding_model_config {\n",
              "    vertex_prediction_endpoint {\n",
              "      endpoint: \"projects/united-tempest-449217-c2/locations/us-central1/publishers/google/models/text-embedding-004\"\n",
              "    }\n",
              "  }\n",
              "  rag_vector_db_config {\n",
              "    rag_managed_db {\n",
              "    }\n",
              "    rag_embedding_model_config {\n",
              "      vertex_prediction_endpoint {\n",
              "        endpoint: \"projects/united-tempest-449217-c2/locations/us-central1/publishers/google/models/text-embedding-004\"\n",
              "      }\n",
              "    }\n",
              "  }\n",
              "  create_time {\n",
              "    seconds: 1738155443\n",
              "    nanos: 235589000\n",
              "  }\n",
              "  update_time {\n",
              "    seconds: 1738155443\n",
              "    nanos: 235589000\n",
              "  }\n",
              "  corpus_status {\n",
              "    state: ACTIVE\n",
              "  }\n",
              "  vector_db_config {\n",
              "    rag_managed_db {\n",
              "    }\n",
              "    rag_embedding_model_config {\n",
              "      vertex_prediction_endpoint {\n",
              "        endpoint: \"projects/united-tempest-449217-c2/locations/us-central1/publishers/google/models/text-embedding-004\"\n",
              "      }\n",
              "    }\n",
              "  }\n",
              "}\n",
              "rag_corpora {\n",
              "  name: \"projects/united-tempest-449217-c2/locations/us-central1/ragCorpora/6917529027641081856\"\n",
              "  display_name: \"my-rag-corpus\"\n",
              "  rag_embedding_model_config {\n",
              "    vertex_prediction_endpoint {\n",
              "      endpoint: \"projects/united-tempest-449217-c2/locations/us-central1/publishers/google/models/text-embedding-004\"\n",
              "    }\n",
              "  }\n",
              "  rag_vector_db_config {\n",
              "    rag_managed_db {\n",
              "    }\n",
              "    rag_embedding_model_config {\n",
              "      vertex_prediction_endpoint {\n",
              "        endpoint: \"projects/united-tempest-449217-c2/locations/us-central1/publishers/google/models/text-embedding-004\"\n",
              "      }\n",
              "    }\n",
              "  }\n",
              "  create_time {\n",
              "    seconds: 1738243778\n",
              "    nanos: 128147000\n",
              "  }\n",
              "  update_time {\n",
              "    seconds: 1738243778\n",
              "    nanos: 128147000\n",
              "  }\n",
              "  corpus_status {\n",
              "    state: ACTIVE\n",
              "  }\n",
              "  vector_db_config {\n",
              "    rag_managed_db {\n",
              "    }\n",
              "    rag_embedding_model_config {\n",
              "      vertex_prediction_endpoint {\n",
              "        endpoint: \"projects/united-tempest-449217-c2/locations/us-central1/publishers/google/models/text-embedding-004\"\n",
              "      }\n",
              "    }\n",
              "  }\n",
              "}\n",
              ">"
            ]
          },
          "metadata": {},
          "execution_count": 5
        }
      ],
      "source": [
        "rag.list_corpora()"
      ]
    },
    {
      "cell_type": "markdown",
      "metadata": {
        "id": "c52924cc1440"
      },
      "source": [
        "### Upload a local file to the corpus"
      ]
    },
    {
      "cell_type": "code",
      "execution_count": 6,
      "metadata": {
        "id": "4976ffe8564f",
        "colab": {
          "base_uri": "https://localhost:8080/"
        },
        "outputId": "033b00b0-39d0-4bfe-b75f-131066c70f74"
      },
      "outputs": [
        {
          "output_type": "stream",
          "name": "stdout",
          "text": [
            "Writing test.txt\n"
          ]
        }
      ],
      "source": [
        "%%writefile test.txt\n",
        "\n",
        "Here's a demo using RAG Engine on Vertex AI."
      ]
    },
    {
      "cell_type": "code",
      "execution_count": 7,
      "metadata": {
        "id": "529390917c29"
      },
      "outputs": [],
      "source": [
        "rag_file = rag.upload_file(\n",
        "    corpus_name=rag_corpus.name,\n",
        "    path=\"test.txt\",\n",
        "    display_name=\"test.txt\",\n",
        "    description=\"my test file\",\n",
        ")"
      ]
    },
    {
      "cell_type": "markdown",
      "metadata": {
        "id": "5269a0c2786d"
      },
      "source": [
        "### Import files from Google Cloud Storage\n",
        "\n",
        "Remember to grant \"Viewer\" access to the \"Vertex RAG Data Service Agent\" (with the format of `service-{project_number}@gcp-sa-vertex-rag.iam.gserviceaccount.com`) for your Google Cloud Storage bucket.\n",
        "\n",
        "For this example, we'll use a public GCS bucket containing earning reports from Alphabet."
      ]
    },
    {
      "cell_type": "code",
      "execution_count": 8,
      "metadata": {
        "id": "5910ae450f69"
      },
      "outputs": [],
      "source": [
        "INPUT_GCS_BUCKET = (\n",
        "    \"gs://cloud-samples-data/gen-app-builder/search/alphabet-investor-pdfs/\"\n",
        ")\n",
        "\n",
        "response = rag.import_files(\n",
        "    corpus_name=rag_corpus.name,\n",
        "    paths=[INPUT_GCS_BUCKET],\n",
        "    chunk_size=1024,  # Optional\n",
        "    chunk_overlap=100,  # Optional\n",
        "    max_embedding_requests_per_min=900,  # Optional\n",
        ")"
      ]
    },
    {
      "cell_type": "markdown",
      "metadata": {
        "id": "60a84095746d"
      },
      "source": [
        "### Import files from Google Drive\n",
        "\n",
        "Eligible paths can be formatted as:\n",
        "\n",
        "- `https://drive.google.com/drive/folders/{folder_id}`\n",
        "- `https://drive.google.com/file/d/{file_id}`.\n",
        "\n",
        "Remember to grant \"Viewer\" access to the \"Vertex RAG Data Service Agent\" (with the format of `service-{project_number}@gcp-sa-vertex-rag.iam.gserviceaccount.com`) for your Drive folder/files.\n"
      ]
    },
    {
      "cell_type": "markdown",
      "metadata": {
        "id": "f700b3e23121"
      },
      "source": [
        "### Optional: Perform direct context retrieval"
      ]
    },
    {
      "cell_type": "code",
      "execution_count": 10,
      "metadata": {
        "id": "4669c5cdbb5a",
        "colab": {
          "base_uri": "https://localhost:8080/"
        },
        "outputId": "e75eeb21-23c0-4e33-aef8-8813bc175afe"
      },
      "outputs": [
        {
          "output_type": "stream",
          "name": "stdout",
          "text": [
            "contexts {\n",
            "  contexts {\n",
            "    source_uri: \"test.txt\"\n",
            "    source_display_name: \"test.txt\"\n",
            "    text: \"Here\\'s a demo using RAG Engine on Vertex AI.\"\n",
            "    distance: 0.42697984679229439\n",
            "    score: 0.42697984679229439\n",
            "  }\n",
            "}\n",
            "\n"
          ]
        }
      ],
      "source": [
        "# Direct context retrieval\n",
        "response = rag.retrieval_query(\n",
        "    rag_resources=[\n",
        "        rag.RagResource(\n",
        "            rag_corpus=rag_corpus.name,\n",
        "            # Optional: supply IDs from `rag.list_files()`.\n",
        "            # rag_file_ids=[\"rag-file-1\", \"rag-file-2\", ...],\n",
        "        )\n",
        "    ],\n",
        "    text=\"What is RAG and why it is helpful?\",\n",
        "    similarity_top_k=10,  # Optional\n",
        "    vector_distance_threshold=0.5,  # Optional\n",
        ")\n",
        "print(response)\n",
        "\n",
        "# Optional: The retrieved context can be passed to any SDK or model generation API to generate final results.\n",
        "# context = \" \".join([context.text for context in response.contexts.contexts]).replace(\"\\n\", \"\")"
      ]
    },
    {
      "cell_type": "markdown",
      "metadata": {
        "id": "79ea89661842"
      },
      "source": [
        "### Create RAG Retrieval Tool"
      ]
    },
    {
      "cell_type": "code",
      "execution_count": 11,
      "metadata": {
        "id": "0ebceac3d816"
      },
      "outputs": [],
      "source": [
        "# Create a tool for the RAG Corpus\n",
        "rag_retrieval_tool = Tool.from_retrieval(\n",
        "    retrieval=rag.Retrieval(\n",
        "        source=rag.VertexRagStore(\n",
        "            rag_corpora=[rag_corpus.name],\n",
        "            similarity_top_k=10,\n",
        "            vector_distance_threshold=0.5,\n",
        "        ),\n",
        "    )\n",
        ")"
      ]
    },
    {
      "cell_type": "markdown",
      "metadata": {
        "id": "d88fa7ede853"
      },
      "source": [
        "### Generate Content with Gemini using Rag Retrieval Tool"
      ]
    },
    {
      "cell_type": "code",
      "execution_count": 12,
      "metadata": {
        "id": "8dd928baecd4"
      },
      "outputs": [],
      "source": [
        "# Load tool into Gemini model\n",
        "rag_gemini_model = GenerativeModel(\n",
        "    \"gemini-1.5-flash-001\",  # your self-deployed endpoint\n",
        "    tools=[rag_retrieval_tool],\n",
        ")"
      ]
    },
    {
      "cell_type": "code",
      "execution_count": 13,
      "metadata": {
        "id": "124b36be8d5b",
        "colab": {
          "base_uri": "https://localhost:8080/",
          "height": 46
        },
        "outputId": "eb66afec-1282-4745-8a2b-66c5a7a6ef7a"
      },
      "outputs": [
        {
          "output_type": "display_data",
          "data": {
            "text/plain": [
              "<IPython.core.display.Markdown object>"
            ],
            "text/markdown": "RAG stands for Retrieval-Augmented Generation. \n"
          },
          "metadata": {}
        }
      ],
      "source": [
        "response = rag_gemini_model.generate_content(\"What is RAG?\")\n",
        "\n",
        "display(Markdown(response.text))"
      ]
    },
    {
      "cell_type": "markdown",
      "metadata": {
        "id": "0268fe43d41c"
      },
      "source": [
        "### Generate Content with Llama3 using Rag Retrieval Tool"
      ]
    },
    {
      "cell_type": "code",
      "execution_count": 14,
      "metadata": {
        "id": "f6e67ee7968c"
      },
      "outputs": [],
      "source": [
        "# Load tool into Llama model\n",
        "llama_gemini_model = GenerativeModel(\n",
        "    # your self-deployed endpoint for Llama3\n",
        "    \"projects/{project}/locations/{location}/endpoints/{endpoint_resource_id}\",\n",
        "    tools=[rag_retrieval_tool],\n",
        ")"
      ]
    },
    {
      "cell_type": "code",
      "execution_count": 15,
      "metadata": {
        "id": "c6d710b6dece",
        "colab": {
          "base_uri": "https://localhost:8080/",
          "height": 46
        },
        "outputId": "fefee5ee-e769-4eab-8b99-e9a5e1af70dc"
      },
      "outputs": [
        {
          "output_type": "display_data",
          "data": {
            "text/plain": [
              "<IPython.core.display.Markdown object>"
            ],
            "text/markdown": "RAG stands for Retrieval-Augmented Generation. \n"
          },
          "metadata": {}
        }
      ],
      "source": [
        "response = rag_gemini_model.generate_content(\"What is RAG?\")\n",
        "\n",
        "display(Markdown(response.text))"
      ]
    }
  ],
  "metadata": {
    "colab": {
      "name": "intro_rag_engine.ipynb",
      "toc_visible": true,
      "provenance": [],
      "collapsed_sections": [
        "197c585b61b2"
      ],
      "include_colab_link": true
    },
    "kernelspec": {
      "display_name": "Python 3",
      "name": "python3"
    }
  },
  "nbformat": 4,
  "nbformat_minor": 0
}